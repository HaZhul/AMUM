{
 "cells": [
  {
   "cell_type": "markdown",
   "id": "9ed56307",
   "metadata": {},
   "source": [
    "# Algorytmika i matematyka uczenia maszynowego \n",
    "## Laboratorium 2\n",
    "\n",
    "Do wykonania zadań proszę zapoznać się z metodami, właściwościami, oraz funkcjami:\n",
    "`__repr__`, `__str__`, `__add__`, `__sub__`, `__eq__`, `__lt__`, `__gt__`, `__le__`, `__ge__`, `__ne__`, `__hash__`, `__truediv__`, `__mul__`, `__class__`, `__name__`, `id`.\n",
    "\n",
    "Operatory: https://docs.python.org/3/library/operator.html\n",
    "\n",
    "\n",
    "**UWAGA**: W ninejszym laboratorium proszę nie korzystać z zewnętrzych modułów/bibliotek (poza biblioteką _matplotlib_).\n",
    "\n",
    "**UWAGA 2**: Obsługę błędów należy zrealizować w postaci wyjątków.\n",
    "\n",
    "### Zadanie 1\n",
    "\n",
    "Napisz klasę `Vector` udostępniającą funkcjonalność:\n",
    "- reprezentuje wektor dowolnej długości,\n",
    "- obiekt inicjowany listą (np. `Vector([1, 2, 3])`,\n",
    "- posiada funkcję zwracającą moduł wektora,\n",
    "- umożliwia dodawanie (`+`) i odejmowanie (`-`) wektorów. Dodaj obsługę błędów (różna długość (liczba elementów) wektora),\n",
    "- możliwość wyświetlenia wektora jako listy za pomocą funkcji `print(v)` (metoda `__str__`),\n",
    "- uruchomienie komórki zawierającej jedynie nazwę zmiennej (typu `Vector`) spowoduje wyświetlenie nazwy typu `Vector`, adresu zmiennej w pamięci (funkcja `id`) oraz jej zawartości, np. `<Vector([1, 2, 3]) at 140185630442880>` (metoda `__repr__`)"
   ]
  },
  {
   "cell_type": "code",
   "execution_count": 63,
   "id": "ac82ae76",
   "metadata": {},
   "outputs": [],
   "source": [
    "import math\n",
    "import matplotlib.pyplot as plt\n",
    "\n",
    "class Vector():\n",
    "    def __init__(self, coordinates):\n",
    "        self.cordinates = coordinates\n",
    "\n",
    "    def get_module(self):\n",
    "        return math.sqrt(sum([pow(i, 2) for i in self.cordinates]))\n",
    "    \n",
    "    def __str__(self):\n",
    "        return str(self.cordinates)\n",
    "    \n",
    "    def __add__(self, vector2):\n",
    "        if len(self.cordinates) == len(vector2.cordinates):\n",
    "            return [i + j for i,j in zip(self.cordinates, vector2.cordinates)]\n",
    "        else:\n",
    "            print('Different sizes')\n",
    "        #result = list(map(operator.add, self.cordinates, vector2.cordinates))\n",
    "\n",
    "    def __sub__(self, vector2):\n",
    "        if len(self.cordinates) == len(vector2.cordinates):\n",
    "            return [i - j for i,j in zip(self.cordinates, vector2.cordinates)]\n",
    "        else:\n",
    "            print('Different sizes')\n",
    "\n",
    "    def __repr__(self):\n",
    "        return f'<Vector({self.cordinates}) at {id(self)}>'\n",
    "    \n",
    "    def __gt__(self, vector):\n",
    "        return [True if i>j else False for i, j in zip(self.cordinates, vector.cordinates)]\n",
    "    \n",
    "\n",
    "\n",
    "    def plot_vector(self):\n",
    "        if len(self.cordinates) == 2:\n",
    "            fig, ax = plt.subplots()\n",
    "            ax.quiver(0, 0, self.cordinates[0], self.cordinates[1], angles='xy', scale_units='xy', scale=1, color='r')\n",
    "            ax.set_xlim([0, 2*self.cordinates[0]])\n",
    "            ax.set_ylim([0, 2*self.cordinates[1]])\n",
    "            plt.grid()\n",
    "            plt.show()\n",
    "        else:\n",
    "            print('Wrong dimesnion')\n",
    "\n",
    "    def __hash__(self):\n",
    "        return hash(self.get_module())\n",
    "    \n",
    "    def __eq__(self, other):\n",
    "        if isinstance(other, Vector):\n",
    "            return self.get_module() == other.get_module()\n",
    "        return False\n",
    "    \n",
    "    def __mul__(self, other):\n",
    "        if isinstance(other, int):\n",
    "            return [x*other for x in self.cordinates]\n",
    "        else:\n",
    "            raise TypeError\n",
    "\n",
    "\n",
    "\n",
    "    def __truediv__(self, other):\n",
    "        if isinstance(other, int):\n",
    "            if other != 0:\n",
    "                return [x/other for x in self.cordinates]\n",
    "            else:\n",
    "                raise ZeroDivisionError\n",
    "        else:\n",
    "            raise TypeError\n"
   ]
  },
  {
   "cell_type": "code",
   "execution_count": 64,
   "id": "cf71f091",
   "metadata": {},
   "outputs": [
    {
     "name": "stdout",
     "output_type": "stream",
     "text": [
      "3.7416573867739413\n",
      "[4, 4, 4]\n",
      "[-2, 0, 2]\n",
      "[1, 2, 3]\n"
     ]
    },
    {
     "data": {
      "text/plain": [
       "<Vector([1, 2, 3]) at 2846702102608>"
      ]
     },
     "execution_count": 64,
     "metadata": {},
     "output_type": "execute_result"
    }
   ],
   "source": [
    "vector1 = Vector([1, 2, 3])\n",
    "vector3 = Vector([1, 2])\n",
    "vector2 = Vector([3, 2, 1])\n",
    "print(vector1.get_module())\n",
    "print(vector1 + vector2)\n",
    "print(vector1 - vector2)\n",
    "print(vector1)\n",
    "vector1"
   ]
  },
  {
   "cell_type": "markdown",
   "id": "87da7375",
   "metadata": {},
   "source": [
    "### Zadanie 2\n",
    "\n",
    "Do wcześniej zaimplementowanej klasy dopisz funkcje pozwalające na porównanie wektorów (ich modułów) za pomocą operatorów: `==`, `>=`, `<=`, `>`, `<`, `!=`. Porównanie ma zostać wykonane na poziomie elementów wektorów (_element wise_), poniżej przykład:\n",
    "\n",
    "```ipython\n",
    " In [1]: a = Vector([1, 2, 3]) \\\n",
    "    ...: b = Vector([3, 2, 1]) \\\n",
    "    ...: a <= b\n",
    "Out [1]: <Vector([True, True, False]) at 140185575662832>\n",
    "```"
   ]
  },
  {
   "cell_type": "code",
   "execution_count": 65,
   "id": "3b99972a",
   "metadata": {},
   "outputs": [
    {
     "data": {
      "text/plain": [
       "[False, False, True]"
      ]
     },
     "execution_count": 65,
     "metadata": {},
     "output_type": "execute_result"
    }
   ],
   "source": [
    "vector1 > vector2"
   ]
  },
  {
   "cell_type": "markdown",
   "id": "d8e9a446",
   "metadata": {},
   "source": [
    "### Zadanie 3\n",
    "\n",
    "Napisz funkcję umożliwiającą wyświetlenie wektora (`Vector`) zaczepionego w punkcie (0,0) na wykresie (zaimplementuj wyświetlanie za pomocą biblioteki `matplotlib`. \n",
    "\n",
    "> **UWAGA**: Funkcja powinna działać tylko dla wektora o dwóch wymiarach (dwuelementowa lista) - wykres 2D i wyświetlać komunikat jeżeli wymiar jest inny.\n",
    "\n",
    "> Podpowiedź: możesz wykorzystać funkcję [matplotlib.pyplot.arrow](https://matplotlib.org/3.5.1/api/_as_gen/matplotlib.pyplot.arrow.html)"
   ]
  },
  {
   "cell_type": "code",
   "execution_count": 66,
   "id": "c9f9de7b",
   "metadata": {},
   "outputs": [
    {
     "name": "stdout",
     "output_type": "stream",
     "text": [
      "Wrong dimesnion\n"
     ]
    },
    {
     "data": {
      "image/png": "[encoded data removed]",
      "text/plain": [
       "<Figure size 640x480 with 1 Axes>"
      ]
     },
     "metadata": {},
     "output_type": "display_data"
    }
   ],
   "source": [
    "vector1.plot_vector()\n",
    "vector3.plot_vector()"
   ]
  },
  {
   "cell_type": "markdown",
   "id": "ebc3c411",
   "metadata": {},
   "source": [
    "### Zadanie 4\n",
    "\n",
    "Dodaj możliwość zastosowania obiektu klasy `Vector` jako klucza w słowniku. Np.:\n",
    "\n",
    "```python\n",
    "d = {\n",
    "    Vector([1, 2, 3]): 'Wektor 1',\n",
    "    Vector([2, 2, 3]): 'Wektor 2'\n",
    "}\n",
    "d[Vector([2, 2, 3])]\n",
    "```"
   ]
  },
  {
   "cell_type": "code",
   "execution_count": 67,
   "id": "d1db2d39",
   "metadata": {},
   "outputs": [
    {
     "data": {
      "text/plain": [
       "'Wektor 1'"
      ]
     },
     "execution_count": 67,
     "metadata": {},
     "output_type": "execute_result"
    }
   ],
   "source": [
    "dictionary = {\n",
    "    Vector([1,2,3]): 'Wektor 1',\n",
    "    Vector([2,2,3]): 'Wektor 2'\n",
    "}\n",
    "dictionary[Vector([1,2,3])]"
   ]
  },
  {
   "cell_type": "markdown",
   "id": "8aec816a",
   "metadata": {},
   "source": [
    "### Zadanie 5\n",
    "\n",
    "Dodaj funkcjonalność:\n",
    "- dzielenia przez skalar (np. `Vector([2, 4]) / 2`),\n",
    "- mnożenia przez skalar (np. `Vector([2, 4]) * 2`).\n",
    "\n",
    "> Podpowiedź: Pamiętaj o obsłudze błędów."
   ]
  },
  {
   "cell_type": "code",
   "execution_count": 71,
   "id": "2bb3d9bb",
   "metadata": {},
   "outputs": [
    {
     "name": "stdout",
     "output_type": "stream",
     "text": [
      "[0.5, 1.0, 1.5]\n"
     ]
    }
   ],
   "source": [
    "result = vector1 / 2\n",
    "print(result)"
   ]
  },
  {
   "cell_type": "code",
   "execution_count": null,
   "id": "c429f7bd",
   "metadata": {},
   "outputs": [],
   "source": []
  }
 ],
 "metadata": {
  "author": {
   "email": "robert.susik@p.lodz.pl",
   "name": "Robert Susik"
  },
  "kernelspec": {
   "display_name": "Python 3 (ipykernel)",
   "language": "python",
   "name": "python3"
  },
  "language_info": {
   "codemirror_mode": {
    "name": "ipython",
    "version": 3
   },
   "file_extension": ".py",
   "mimetype": "text/x-python",
   "name": "python",
   "nbconvert_exporter": "python",
   "pygments_lexer": "ipython3",
   "version": "3.11.8"
  },
  "toc": {
   "base_numbering": 1,
   "nav_menu": {},
   "number_sections": true,
   "sideBar": true,
   "skip_h1_title": false,
   "title_cell": "Table of Contents",
   "title_sidebar": "Contents",
   "toc_cell": false,
   "toc_position": {},
   "toc_section_display": true,
   "toc_window_display": false
  }
 },
 "nbformat": 4,
 "nbformat_minor": 5
}
