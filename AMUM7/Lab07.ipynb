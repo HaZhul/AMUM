{
 "cells": [
  {
   "cell_type": "markdown",
   "id": "59b5dc28",
   "metadata": {},
   "source": [
    "# Algorytmika i matematyka uczenia maszynowego \n",
    "## Laboratorium 7\n"
   ]
  },
  {
   "cell_type": "markdown",
   "id": "01f97ff3",
   "metadata": {},
   "source": [
    "### Zadanie 1\n",
    "\n",
    "Z miasta A do miasta B kierowca przejechał ze średnią szybkością 60 km/h. Z powrotem jechał szybciej, ze średnią 80 km/h. Jaka była jego średnia szybkość na całej trasie? \n",
    "\n",
    "**Uwaga:** nie używaj gotowych implementacji.\n",
    "\n",
    "> Wskazówka: średnia harmoniczna."
   ]
  },
  {
   "cell_type": "code",
   "execution_count": 3,
   "id": "b7313777",
   "metadata": {},
   "outputs": [
    {
     "name": "stdout",
     "output_type": "stream",
     "text": [
      "Jechal ze srednia predkoscia 68.57 km/h\n"
     ]
    }
   ],
   "source": [
    "v1 = 60\n",
    "v2 = 80\n",
    "vav = 2/(1/v1+1/v2)\n",
    "print(f'Jechal ze srednia predkoscia {vav:.2f} km/h')"
   ]
  },
  {
   "cell_type": "markdown",
   "id": "ca4e7af2",
   "metadata": {},
   "source": [
    "### Zadanie 2\n",
    "\n",
    "Wyobraźmy sobie miasto o liczbie 700 tys. mieszkańców. W mieście pojawiła się choroba i wiemy, że jedna osoba na 1000 zachorowała. Nie wiemy, które to dokładnie osoby, ale jest dostępny test, którego skuteczność wynosi 99%. Teraz wcielamy się w pacjenta, który przeprowadził test, a wynik testu jest pozytywny. Chcemy dowiedzieć się, jakie jest prawdopodobieństwo, że zachorowaliśmy.\n",
    "\n",
    "#### A)\n",
    "\n",
    "Przeprowadzić symulację komputerową:\n",
    "\n",
    "- Utwórz listę mieszkańców o wielkości 700 tys. elementów, gdzie każdy element reprezentuje mieszkańca. Każdy element powinien posiadać dwie właściwości: *stan zdrowia* oraz *wynik diagnozy*.\n",
    "- Losowo wybieramy 700 tys./1000 (bo jedna na 1000 osob zachorowała) osób i zaznaczamy ich *stan zdrowia* jako *chory*. Uwaga: należy dopilnować, aby nie wylosowała się dwukrotnie ta sama osoba.\n",
    "- Wybieramy losowo po 1% osob chorych i zdrowych, a następnie zaznaczamy ich *wynik diagnozy* na nieprawidłowy, czyli przeciwny do *stanu zdrowia* (bo skutecznosc testu wynosi 99%).\n",
    "- Oblicz jakie jest prawdopodobienstwo ze osoba z pozytywnym wynikiem testu jest faktycznie chora (`liczba osób chorych z wynikiem pozytywnym` / `liczba wszystkich osob z wynikiem pozytywnym`)."
   ]
  },
  {
   "cell_type": "code",
   "execution_count": 36,
   "id": "0fea1c5d",
   "metadata": {},
   "outputs": [
    {
     "name": "stdout",
     "output_type": "stream",
     "text": [
      "Prawdopodobienstwo ze osoba z pozytywnym wynikiem testu jest faktycznie chora: 0.09016393\n",
      "Czas wykonania: 0.3291809558868408s\n"
     ]
    }
   ],
   "source": [
    "import random\n",
    "import time\n",
    "\n",
    "start = time.time()\n",
    "population = 700000\n",
    "people = [[0, 0] for _ in range(population)]\n",
    "\n",
    "sick_indexes = set()\n",
    "while len(sick_indexes) < 700:\n",
    "    sick_indexes.add(random.randint(0, population - 1))\n",
    "sick_indexes = list(sick_indexes)\n",
    "\n",
    "for person_index in sick_indexes:\n",
    "    people[person_index][0] = 1\n",
    "    people[person_index][1] = 1\n",
    "\n",
    "healthy_indexes = [i for i, person in enumerate(people) if person[0] == 0]\n",
    "\n",
    "\n",
    "false_healthy = set()\n",
    "while len(false_healthy) < len(sick_indexes)/100:\n",
    "    false_healthy.add(random.choice(sick_indexes))\n",
    "\n",
    "false_sick = set()\n",
    "while len(false_sick) < (population-len(sick_indexes))/100:\n",
    "    false_sick.add(random.choice(healthy_indexes))\n",
    "\n",
    "for index in false_healthy:\n",
    "    people[index][1] = 0\n",
    "\n",
    "for index in false_sick:\n",
    "    people[index][1] = 1\n",
    "\n",
    "true_healthy = 0\n",
    "healthy = 0\n",
    "\n",
    "for person in people:\n",
    "    if person[0] == 1 and person[1] == 1:\n",
    "        true_healthy += 1\n",
    "    if person[1] == 1:\n",
    "        healthy += 1\n",
    "end = time.time()\n",
    "# print(true_healthy)\n",
    "# print(healthy)\n",
    "\n",
    "print(f'Prawdopodobienstwo ze osoba z pozytywnym wynikiem testu jest faktycznie chora: {(true_healthy/healthy):.8f}\\nCzas wykonania: {end-start}s')"
   ]
  },
  {
   "cell_type": "markdown",
   "id": "46aa035b",
   "metadata": {},
   "source": [
    "#### B)\n",
    "\n",
    "Napisać funkcję, która zwróci wynik obliczony ze wzoru Bayesa. Zmierz i porównaj czas obliczeń w zad. A i zad. B\n",
    "\n"
   ]
  },
  {
   "cell_type": "code",
   "execution_count": 41,
   "id": "1119d040",
   "metadata": {},
   "outputs": [
    {
     "name": "stdout",
     "output_type": "stream",
     "text": [
      "Wynik ze wzoru Bayesa: 0.09016393442622944\n",
      "Czas wykonania: 0.0s\n"
     ]
    }
   ],
   "source": [
    "def bayes_prob(test_accuracy):\n",
    "    return (test_accuracy*(1/1000))/(0.999*(1-test_accuracy)+0.001*test_accuracy)\n",
    "\n",
    "start = time.time()\n",
    "ans = bayes_prob(0.99)\n",
    "end = time.time()\n",
    "print(f'Wynik ze wzoru Bayesa: {ans}\\nCzas wykonania: {end-start}s')"
   ]
  },
  {
   "cell_type": "markdown",
   "id": "2850f724",
   "metadata": {},
   "source": [
    "#### C)\n",
    "\n",
    "Wyświetl wykres, gdzie na osi X znajduje się skuteczność testu (przyjmij zakres 50%-99.99%), a na osi Y znajduje się _prawdopodobieństwo, że osoba z pozytywnym wynikiem jest chora_ (użyj funkcji z podpunktu B)."
   ]
  },
  {
   "cell_type": "code",
   "execution_count": 47,
   "id": "7359c283",
   "metadata": {},
   "outputs": [
    {
     "data": {
      "text/plain": [
       "Text(0, 0.5, 'Bayes Prob')"
      ]
     },
     "execution_count": 47,
     "metadata": {},
     "output_type": "execute_result"
    },
    {
     "data": {
      "image/png": "[encoded data removed]",
      "text/plain": [
       "<Figure size 640x480 with 1 Axes>"
      ]
     },
     "metadata": {},
     "output_type": "display_data"
    }
   ],
   "source": [
    "import matplotlib.pyplot as plt\n",
    "\n",
    "\n",
    "accuracy = []\n",
    "prob = []\n",
    "for i in range(0, 500):\n",
    "    prob.append(bayes_prob(0.5+i/1000))\n",
    "    accuracy.append(0.5+i/1000)\n",
    "    \n",
    "plt.plot(accuracy, prob)\n",
    "plt.xlabel('Test Accuracy')\n",
    "plt.ylabel('Bayes Prob')"
   ]
  },
  {
   "cell_type": "markdown",
   "id": "2b0253f8",
   "metadata": {},
   "source": [
    "### Zadanie 3\n",
    "\n",
    "Sprawdź (symulacją) ile średnio razy należy losować 13 kart, aby trafia się \"ręka\" zawierająca $\\ge 8$ kart w jednym kolorze.\n",
    "\n",
    "* Czyli losujemy 13 kart z 52 (wiec \"ręki\" jak w brydzu) tak długo, aż w którymkolwiek kolorze dostaniemy $\\ge 8$ kart, zapisujemy liczbę przeprowadzonych losowań i podejmujemy kolejną próbę.\n",
    "* Przeprowadź 1000 takich prób i oblicz średnią liczbę losowań. \n",
    "* Dodatkowo wypisz jedną (np. ostatnią) wylosowaną \"rękę\"."
   ]
  },
  {
   "cell_type": "code",
   "execution_count": 59,
   "id": "622ec278",
   "metadata": {},
   "outputs": [
    {
     "name": "stdout",
     "output_type": "stream",
     "text": [
      "Średnia liczba losowań: 190.467\n",
      "Ostatnia wylosowana reka: {'kier': 2, 'karo': 2, 'trefl': 8, 'pik': 1}\n"
     ]
    }
   ],
   "source": [
    "def reka_():\n",
    "    karty = list(range(1, 53))\n",
    "    random.shuffle(karty)\n",
    "    reka = {\"kier\": 0, \"karo\": 0, \"trefl\": 0, \"pik\": 0}\n",
    "    for karta in karty[:13]:\n",
    "        kolor = \"\"\n",
    "        if karta <= 13:\n",
    "            kolor = \"kier\"\n",
    "        elif karta <= 26:\n",
    "            kolor = \"karo\"\n",
    "        elif karta <= 39:\n",
    "            kolor = \"trefl\"\n",
    "        else:\n",
    "            kolor = \"pik\"\n",
    "        reka[kolor] += 1\n",
    "    return reka\n",
    "\n",
    "def losowania():\n",
    "    liczba_losowan = 0\n",
    "    while True:\n",
    "        liczba_losowan += 1\n",
    "        reka = reka_()\n",
    "        if max(reka.values()) >= 8:\n",
    "            return liczba_losowan, reka\n",
    "\n",
    "liczba_prob = 1000\n",
    "suma_losowan = 0\n",
    "\n",
    "for _ in range(liczba_prob):\n",
    "    liczba_losowan, ostatnia_reka = losowania()\n",
    "    suma_losowan += liczba_losowan\n",
    "\n",
    "srednia_liczba_losowan = suma_losowan / liczba_prob\n",
    "\n",
    "print(f'Średnia liczba losowań: {srednia_liczba_losowan}')\n",
    "print(f'Ostatnia wylosowana reka: {ostatnia_reka}')\n"
   ]
  }
 ],
 "metadata": {
  "author": {
   "email": "robert.susik@p.lodz.pl",
   "name": "Robert Susik"
  },
  "kernelspec": {
   "display_name": "Python 3 (ipykernel)",
   "language": "python",
   "name": "python3"
  },
  "language_info": {
   "codemirror_mode": {
    "name": "ipython",
    "version": 3
   },
   "file_extension": ".py",
   "mimetype": "text/x-python",
   "name": "python",
   "nbconvert_exporter": "python",
   "pygments_lexer": "ipython3",
   "version": "3.11.8"
  },
  "toc": {
   "base_numbering": 1,
   "nav_menu": {},
   "number_sections": true,
   "sideBar": true,
   "skip_h1_title": false,
   "title_cell": "Table of Contents",
   "title_sidebar": "Contents",
   "toc_cell": false,
   "toc_position": {},
   "toc_section_display": true,
   "toc_window_display": false
  }
 },
 "nbformat": 4,
 "nbformat_minor": 5
}
