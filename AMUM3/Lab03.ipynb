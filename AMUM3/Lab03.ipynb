{
 "cells": [
  {
   "cell_type": "markdown",
   "id": "59b5dc28",
   "metadata": {},
   "source": [
    "# Algorytmika i matematyka uczenia maszynowego \n",
    "## Laboratorium 3\n",
    "\n",
    "Do wykonania laboratorium należy skorzystać z bibliotek:\n",
    "- [numpy](https://numpy.org/)\n",
    "- [matplotlib](https://matplotlib.org/)\n",
    "\n",
    "### Zadanie 1 - zakupy\n",
    "\n",
    "W sklepie dostępne są następujące produkty:\n",
    "\n",
    "| Produkt | Cena (netto) | Podatek |\n",
    "| --- | --- | --- |\n",
    "| Chleb | 3 | 5% |\n",
    "| Butelka wody (1l) | 2 | 8% |\n",
    "| Pomidor 1szt. | 2 | 5% |\n",
    "| Olej (1l) | 6 | 5% |\n",
    "| Szafran | 24.5 | 8% |\n",
    "| Krewetki (opakowanie) | 20 | 23% |\n",
    "| Lód (opakowanie) | 5 | 23% |\n",
    "\n",
    "\n",
    "#### Zadanie 1 A\n",
    "\n",
    "Zapisz:\n",
    "- nazwy produktów w zmiennej `N`.\n",
    "- ceny produktów w zmiennej `C`.\n",
    "- stawki podatku w zmiennej `P`.\n",
    "\n",
    "*(powyższe zmienne to tablice jednowymiarowe)*\n",
    "\n"
   ]
  },
  {
   "cell_type": "code",
   "execution_count": 10,
   "id": "adf73c67",
   "metadata": {},
   "outputs": [
    {
     "name": "stdout",
     "output_type": "stream",
     "text": [
      "[0.05 0.08 0.23 0.05 0.08]\n"
     ]
    }
   ],
   "source": [
    "\n",
    "import numpy as np \n",
    "import matplotlib.pyplot as plt\n",
    "# N = np.array(['Chleb', 'Woda 1L', 'Pomidor', 'Olej 1L', 'Szafran', 'Krewetki', 'Lod'])\n",
    "# P = np.array([0.05, 0.08, 0.05, 0.05, 0.08, 0.23, 0.23])\n",
    "# C = np.array([3, 2, 2, 6, 24.5, 20, 5])\n",
    "N, P, C = [], [], []\n",
    "# with open('produkty.csv', mode='r') as file:\n",
    "#     csv_reader = csv.reader(file)\n",
    "#     for row in csv_reader:\n",
    "#         N.append(row[0])\n",
    "#         P.append(row[1])\n",
    "#         C.append(row[2])\n",
    "data = np.genfromtxt('produkty.csv', delimiter=',', dtype=str)\n",
    "N = np.array(data[:, 0])\n",
    "P = np.array(data[:, 2])\n",
    "P = P.astype(float)\n",
    "C = np.array(data[:, 1])\n",
    "C = C.astype(float)\n",
    "print(P)"
   ]
  },
  {
   "cell_type": "markdown",
   "id": "ca4e7af2",
   "metadata": {},
   "source": [
    "#### Zadanie 1 B\n",
    "\n",
    "Klient kupił:\n",
    "\n",
    "- 2 szt. chleba, \n",
    "- 6 butelek wody,\n",
    "- 1 opakowanie krewetek.\n",
    "\n",
    "Zapisz zakupy klienta w wektorze `Z` (zachowaj wymiarowość) oraz kolejność produktów zgodnie z zad. 1A."
   ]
  },
  {
   "cell_type": "code",
   "execution_count": 11,
   "id": "81391828",
   "metadata": {},
   "outputs": [
    {
     "name": "stdout",
     "output_type": "stream",
     "text": [
      "[2. 1. 0. 0. 1.]\n"
     ]
    }
   ],
   "source": [
    "# Z = np.array([2, 6, 0, 0, 0, 1, 0])\n",
    "Z = np.array(np.genfromtxt('zakupy.csv', delimiter=',', dtype=str))\n",
    "Z = Z.astype(float)\n",
    "print(Z)"
   ]
  },
  {
   "cell_type": "markdown",
   "id": "4d64ce4b",
   "metadata": {},
   "source": [
    "\n",
    "#### Zadanie 1C\n",
    "\n",
    "Oblicz sumę **netto** jaką klient musi zapłacić bez używania:\n",
    "- operatora `+`, \n",
    "- funkcji/metody `sum`\n",
    "- operatego mnożenia skalarnego (`*`, `__mul__`).\n",
    "\n",
    "_Podpowiedź: jeden z wektorów trzeba transponować_"
   ]
  },
  {
   "cell_type": "code",
   "execution_count": 12,
   "id": "bb0b4e4e",
   "metadata": {},
   "outputs": [
    {
     "data": {
      "text/plain": [
       "24.0"
      ]
     },
     "execution_count": 12,
     "metadata": {},
     "output_type": "execute_result"
    }
   ],
   "source": [
    "# cost = (C*np.transpose(Z))\n",
    "# netto = cost - cost*np.transpose(P)\n",
    "# netto = sum(netto)\n",
    "netto = C @ Z\n",
    "netto"
   ]
  },
  {
   "cell_type": "markdown",
   "id": "fe9e7805",
   "metadata": {},
   "source": [
    "#### Zadanie 1D\n",
    "\n",
    "Oblicz wartość **brutto** jaką klient musi zapłacić w sklepie. \n",
    "\n",
    "* W tym zadaniu użyj operatora `*` do obliczenia cen brutto.\n",
    "* Do obliczenia sumy użyj operatora mnożenia macierzy (podobnie jak w zad. 1C).\n",
    "* Dodatkowo, wyświetl rachunek w postaci tabeli zawierającej kolumny: \n",
    "    - nazwa produktu,\n",
    "    - cena netto, \n",
    "    - liczba sztuk, \n",
    "    - cena netto danej pozycji (cena netto x liczba sztuk), \n",
    "    - podatek (procentowo np. `5%`),\n",
    "    - cena brutto danej pozycji. \n",
    "\n",
    "Na końcu tabeli ma się wyświetlić suma brutto do zapłaty.\n",
    "\n",
    "**Oczekiwany wynik:**\n",
    "```\n",
    "Nazwa                       cena x szt.  netto   podatek   brutto\n",
    "Chleb                       3.00 x 2      6.00        5%    ?????\n",
    "Butelka wody (1l)           2.00 x 6     12.00        8%    ?????\n",
    "Krewetki (opakowanie)      24.50 x 1     24.50       23%    ?????\n",
    "=================================================================\n",
    "Suma:                                                       ?????\n",
    "```\n",
    "\n",
    "_(w miejscu znaków zapytania powinny być wartości liczbowe)_"
   ]
  },
  {
   "cell_type": "code",
   "execution_count": 13,
   "id": "f11e2e28",
   "metadata": {},
   "outputs": [
    {
     "name": "stdout",
     "output_type": "stream",
     "text": [
      "Nazwa        cena x szt.  netto        podatek      brutto       \n",
      "Skyr         3.0 x 2.0    6.0          5%           6.32         \n",
      "Maslo        8.0 x 1.0    8.0          8%           8.7          \n",
      "Herbata      10.0 x 1.0   10.0         8%           10.87        \n",
      "=========================================================\n",
      "Suma:                                               25.89                                               \n"
     ]
    }
   ],
   "source": [
    "headers = ['Nazwa', 'cena x szt.', 'netto', 'podatek', 'brutto']\n",
    "brutto = Z*(100*C)/(100-100*P)\n",
    "N2 = N[Z != 0]\n",
    "\n",
    "cena = C[Z != 0]\n",
    "# szt = [2, 1, 1]\n",
    "szt = Z[Z != 0]\n",
    "cena_szt = [str(cenaa) + ' x ' + str(sztuka) for cenaa, sztuka in zip(cena, szt)]\n",
    "\n",
    "netto2 = C*Z\n",
    "netto2 = netto2[Z != 0]\n",
    "\n",
    "P2 = 100*P[Z != 0]\n",
    "P2 = [str(int(it)) + '%' for it in P2]\n",
    "\n",
    "\n",
    "brutto2 = brutto[Z != 0]\n",
    "brutto2 = [round(element, 2) for element in brutto2]\n",
    "brutto_suma = sum(brutto2)\n",
    "suma_list = ['Suma:', brutto_suma]\n",
    "\n",
    "interleaved_list = np.array([item for sublist in zip(N2, cena_szt, netto2, P2, brutto2) for item in sublist])\n",
    "interleaved_matrix = interleaved_list.reshape(3, 5)\n",
    "\n",
    "\n",
    "header_format = '{:<13}' * 5\n",
    "row_format = '{:<13}' * 5\n",
    "sum_format = '{:<52}' * 2\n",
    "\n",
    "# Print headers\n",
    "print(header_format.format(*headers))\n",
    "\n",
    "# Print data\n",
    "for row in interleaved_matrix:\n",
    "    print(row_format.format(*row))\n",
    "print('=' * 57)\n",
    "print(sum_format.format(*suma_list))\n"
   ]
  },
  {
   "cell_type": "markdown",
   "id": "67b1b17f",
   "metadata": {
    "heading_collapsed": true
   },
   "source": [
    "### Zadanie 2\n",
    "\n",
    "Zmodyfikuj kod z zadania pierwszego w ten sposób, że dane o produktach będą wczytywane z pliku `produkty.csv`, a dane do rachunku (liczba zakupionych produktów) z pliku `rachunek.csv`.\n",
    "\n",
    "Utwórz przykładowe dane (inne niż w zadaniu 1). Minimum 5 produktów.\n"
   ]
  },
  {
   "cell_type": "markdown",
   "id": "20d45341",
   "metadata": {},
   "source": [
    "### Zadanie 3\n",
    "\n",
    "#### Zadanie 3 A\n",
    "\n",
    "Utwórz dwa wektory dwuelementowe `A` i `B` (dowolne wartości dodatnie).\n",
    "\n",
    "Następnie wykonaj sumowanie elementów obu wektorów i zapisz w zmiennej `C`.\n"
   ]
  },
  {
   "cell_type": "code",
   "execution_count": 14,
   "id": "741e4a50",
   "metadata": {},
   "outputs": [],
   "source": [
    "class Vector():\n",
    "    def __init__(self, cordinates):\n",
    "        self.coordinates = cordinates\n",
    "    def __add__(self, vector2):\n",
    "        if len(self.coordinates) == len(vector2.coordinates):\n",
    "            return [i + j for i,j in zip(self.coordinates, vector2.coordinates)]\n",
    "        else:\n",
    "            print('Different sizes')"
   ]
  },
  {
   "cell_type": "code",
   "execution_count": 15,
   "id": "7176c7a2",
   "metadata": {},
   "outputs": [
    {
     "data": {
      "text/plain": [
       "[3, 5]"
      ]
     },
     "execution_count": 15,
     "metadata": {},
     "output_type": "execute_result"
    }
   ],
   "source": [
    "vector1 = Vector([1, 2])\n",
    "vector2 = Vector([2, 3])\n",
    "C = vector1 + vector2\n",
    "C"
   ]
  },
  {
   "cell_type": "markdown",
   "id": "6825bb23",
   "metadata": {},
   "source": [
    "#### Zadanie 3 B\n",
    "\n",
    "Wyświetl na wykresie:\n",
    "- wektor wodzący (strzałkę) z punktu `(0, 0)` do punktów `A` oraz `B` (w kolorze <font color='green'>zielonym</font>),\n",
    "- wektor wodzący z punktu `(0, 0)` do punktu `C` (w kolorze <font color='red'>czerwonym</font>)\n",
    "- wektor wodzący z punktu `A` do punktu `C` (w kolorze <font color='blue'>niebieskim</font>),\n",
    "- wektor wodzący z punktu `B` do punktu `C` (w kolorze <font color='blue'>niebieskim</font>)."
   ]
  },
  {
   "cell_type": "code",
   "execution_count": 16,
   "id": "716313db",
   "metadata": {},
   "outputs": [
    {
     "data": {
      "image/png": "[encoded data removed]",
      "text/plain": [
       "<Figure size 640x480 with 1 Axes>"
      ]
     },
     "metadata": {},
     "output_type": "display_data"
    }
   ],
   "source": [
    "_, ax = plt.subplots()\n",
    "ax.quiver(0, 0, vector1.coordinates[0], vector1.coordinates[1], angles='xy', scale_units='xy', scale=1, color='green')\n",
    "ax.quiver(0, 0, vector2.coordinates[0], vector2.coordinates[1], angles='xy', scale_units='xy', scale=1, color='green')\n",
    "ax.quiver(0, 0, C[0], C[1], angles='xy', scale_units='xy', scale=1, color='red')\n",
    "ax.quiver(vector1.coordinates[0], vector1.coordinates[1], C[0] - vector1.coordinates[0], C[1] - vector1.coordinates[1], angles='xy', scale_units='xy', scale=1, color='blue')\n",
    "ax.quiver(vector2.coordinates[0], vector2.coordinates[1], C[0] - vector2.coordinates[0], C[1] - vector2.coordinates[1], angles='xy', scale_units='xy', scale=1, color='blue')\n",
    "ax.set_xlim([0, 1.2*C[0]])\n",
    "ax.set_ylim([0, 1.2*C[1]])\n",
    "plt.grid()\n",
    "plt.show()"
   ]
  },
  {
   "cell_type": "markdown",
   "id": "98e6ec6a",
   "metadata": {},
   "source": [
    "### Zadanie 4\n",
    "\n",
    "Wygeneruj losową macierz 8×8 wg rozkładu Gaussa (średnia: 100, odch. std = 15),\n",
    "wartości zaokrąglij do liczb całkowitych (int). Macierz ta reprezentuje pewien obraz (w skali szarości).\n",
    "\n",
    "Następnie zastosuj filtr uśredniający o masce 3×3 dla elementów wewnętrznych tej macierzy i wypisz wynik. W filtrze uśredniającym zastosuj zaokrąglanie w dół do liczby całkowitej.\n",
    "\n",
    "_Podpowiedź: generacja danych: np.random.normal, np.round._"
   ]
  },
  {
   "cell_type": "code",
   "execution_count": 17,
   "id": "9616e1f3",
   "metadata": {},
   "outputs": [
    {
     "name": "stdout",
     "output_type": "stream",
     "text": [
      "[[ 98 117 103  93 105  94 118 112]\n",
      " [127 120 117  89  98  99 120  84]\n",
      " [ 99 104  89 105 127 105 109  79]\n",
      " [ 87  95  82 133  84  94  83 113]\n",
      " [114  86 106  81 103  85 136  97]\n",
      " [ 78 130  91  85  90 135  90 116]\n",
      " [ 98  92  93  93  70  94 100 111]\n",
      " [122  83 117 114 101 110  93 107]]\n",
      "\n",
      "\n",
      "[[108 104 102 101 108 102]\n",
      " [102 103 102 103 102  98]\n",
      " [ 95  97 101 101 102 100]\n",
      " [ 96  98  95  98 100 105]\n",
      " [ 98  95  90  92 100 107]\n",
      " [100  99  94  99  98 106]]\n"
     ]
    }
   ],
   "source": [
    "mean = 100\n",
    "std_dev = 15\n",
    "\n",
    "random_matrix = np.random.normal(mean, std_dev, size=(8, 8))\n",
    "\n",
    "random_matrix = np.round(random_matrix).astype(int)\n",
    "\n",
    "print(random_matrix)\n",
    "filtered_matrix = np.zeros((6, 6), dtype=int)\n",
    "for i in range(6):\n",
    "    for j in range(6):\n",
    "        part_matrix = random_matrix[i:i+3, j:j+3]\n",
    "        #print(np.sum(part_matrix) / 9)\n",
    "        filtered_matrix[i, j] = np.sum(part_matrix) / 9\n",
    "        #print(filtered_matrix)\n",
    "print(f'\\n\\n{filtered_matrix}')"
   ]
  }
 ],
 "metadata": {
  "author": {
   "email": "robert.susik@p.lodz.pl",
   "name": "Robert Susik"
  },
  "kernelspec": {
   "display_name": "Python 3 (ipykernel)",
   "language": "python",
   "name": "python3"
  },
  "language_info": {
   "codemirror_mode": {
    "name": "ipython",
    "version": 3
   },
   "file_extension": ".py",
   "mimetype": "text/x-python",
   "name": "python",
   "nbconvert_exporter": "python",
   "pygments_lexer": "ipython3",
   "version": "3.11.8"
  },
  "toc": {
   "base_numbering": 1,
   "nav_menu": {},
   "number_sections": true,
   "sideBar": true,
   "skip_h1_title": false,
   "title_cell": "Table of Contents",
   "title_sidebar": "Contents",
   "toc_cell": false,
   "toc_position": {},
   "toc_section_display": true,
   "toc_window_display": false
  }
 },
 "nbformat": 4,
 "nbformat_minor": 5
}
