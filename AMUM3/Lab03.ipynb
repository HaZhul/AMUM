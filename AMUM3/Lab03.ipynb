{
 "cells": [
  {
   "cell_type": "markdown",
   "id": "59b5dc28",
   "metadata": {},
   "source": [
    "# Algorytmika i matematyka uczenia maszynowego \n",
    "## Laboratorium 3\n",
    "\n",
    "Do wykonania laboratorium należy skorzystać z bibliotek:\n",
    "- [numpy](https://numpy.org/)\n",
    "- [matplotlib](https://matplotlib.org/)\n",
    "\n",
    "### Zadanie 1 - zakupy\n",
    "\n",
    "W sklepie dostępne są następujące produkty:\n",
    "\n",
    "| Produkt | Cena (netto) | Podatek |\n",
    "| --- | --- | --- |\n",
    "| Chleb | 3 | 5% |\n",
    "| Butelka wody (1l) | 2 | 8% |\n",
    "| Pomidor 1szt. | 2 | 5% |\n",
    "| Olej (1l) | 6 | 5% |\n",
    "| Szafran | 24.5 | 8% |\n",
    "| Krewetki (opakowanie) | 20 | 23% |\n",
    "| Lód (opakowanie) | 5 | 23% |\n",
    "\n",
    "\n",
    "#### Zadanie 1 A\n",
    "\n",
    "Zapisz:\n",
    "- nazwy produktów w zmiennej `N`.\n",
    "- ceny produktów w zmiennej `C`.\n",
    "- stawki podatku w zmiennej `P`.\n",
    "\n",
    "*(powyższe zmienne to tablice jednowymiarowe)*\n",
    "\n"
   ]
  },
  {
   "cell_type": "code",
   "execution_count": 53,
   "id": "adf73c67",
   "metadata": {},
   "outputs": [],
   "source": [
    "import numpy as np \n",
    "import matplotlib as plt\n",
    "N = np.array(['Chleb', 'Woda 1L', 'Pomidor', 'Olej 1L', 'Szafran', 'Krewetki', 'Lod'])\n",
    "P = np.array([0.05, 0.08, 0.05, 0.05, 0.08, 0.23, 0.23])\n",
    "C = np.array([3, 2, 2, 6, 24.5, 20, 5])\n"
   ]
  },
  {
   "cell_type": "markdown",
   "id": "ca4e7af2",
   "metadata": {},
   "source": [
    "#### Zadanie 1 B\n",
    "\n",
    "Klient kupił:\n",
    "\n",
    "- 2 szt. chleba, \n",
    "- 6 butelek wody,\n",
    "- 1 opakowanie krewetek.\n",
    "\n",
    "Zapisz zakupy klienta w wektorze `Z` (zachowaj wymiarowość) oraz kolejność produktów zgodnie z zad. 1A."
   ]
  },
  {
   "cell_type": "code",
   "execution_count": 12,
   "id": "81391828",
   "metadata": {},
   "outputs": [],
   "source": [
    "Z = np.array([2, 6, 0, 0, 0, 1, 0])"
   ]
  },
  {
   "cell_type": "markdown",
   "id": "4d64ce4b",
   "metadata": {},
   "source": [
    "\n",
    "#### Zadanie 1C\n",
    "\n",
    "Oblicz sumę **netto** jaką klient musi zapłacić bez używania:\n",
    "- operatora `+`, \n",
    "- funkcji/metody `sum`\n",
    "- operatego mnożenia skalarnego (`*`, `__mul__`).\n",
    "\n",
    "_Podpowiedź: jeden z wektorów trzeba transponować_"
   ]
  },
  {
   "cell_type": "code",
   "execution_count": 13,
   "id": "bb0b4e4e",
   "metadata": {},
   "outputs": [
    {
     "data": {
      "text/plain": [
       "38.0"
      ]
     },
     "execution_count": 13,
     "metadata": {},
     "output_type": "execute_result"
    }
   ],
   "source": [
    "# cost = (C*np.transpose(Z))\n",
    "# netto = cost - cost*np.transpose(P)\n",
    "# netto = sum(netto)\n",
    "netto = C @ Z\n",
    "netto"
   ]
  },
  {
   "cell_type": "markdown",
   "id": "fe9e7805",
   "metadata": {},
   "source": [
    "#### Zadanie 1D\n",
    "\n",
    "Oblicz wartość **brutto** jaką klient musi zapłacić w sklepie. \n",
    "\n",
    "* W tym zadaniu użyj operatora `*` do obliczenia cen brutto.\n",
    "* Do obliczenia sumy użyj operatora mnożenia macierzy (podobnie jak w zad. 1C).\n",
    "* Dodatkowo, wyświetl rachunek w postaci tabeli zawierającej kolumny: \n",
    "    - nazwa produktu,\n",
    "    - cena netto, \n",
    "    - liczba sztuk, \n",
    "    - cena netto danej pozycji (cena netto x liczba sztuk), \n",
    "    - podatek (procentowo np. `5%`),\n",
    "    - cena brutto danej pozycji. \n",
    "\n",
    "Na końcu tabeli ma się wyświetlić suma brutto do zapłaty.\n",
    "\n",
    "**Oczekiwany wynik:**\n",
    "```\n",
    "Nazwa                       cena x szt.  netto   podatek   brutto\n",
    "Chleb                       3.00 x 2      6.00        5%    ?????\n",
    "Butelka wody (1l)           2.00 x 6     12.00        8%    ?????\n",
    "Krewetki (opakowanie)      24.50 x 1     24.50       23%    ?????\n",
    "=================================================================\n",
    "Suma:                                                       ?????\n",
    "```\n",
    "\n",
    "_(w miejscu znaków zapytania powinny być wartości liczbowe)_"
   ]
  },
  {
   "cell_type": "code",
   "execution_count": 105,
   "id": "f11e2e28",
   "metadata": {},
   "outputs": [
    {
     "name": "stdout",
     "output_type": "stream",
     "text": [
      "Nazwa        cena x szt.  netto        podatek      brutto       \n",
      "Chleb        3.0 x 2      6.0          5.0          6.32         \n",
      "Woda 1L      2.0 x 6      12.0         8.0          13.04        \n",
      "Krewetki     20.0 x 1     20.0         23.0         25.97        \n",
      "=========================================================\n",
      "Suma:                                               45.33                                               \n"
     ]
    }
   ],
   "source": [
    "headers = ['Nazwa', 'cena x szt.', 'netto', 'podatek', 'brutto']\n",
    "\n",
    "N2 = N[Z != 0]\n",
    "\n",
    "cena = C[Z != 0]\n",
    "szt = [2, 6, 1]\n",
    "cena_szt = [str(cenaa) + ' x ' + str(sztuka) for cenaa, sztuka in zip(cena, szt)]\n",
    "\n",
    "netto2 = C*Z\n",
    "netto2 = netto2[Z != 0]\n",
    "\n",
    "P2 = 100*P[Z != 0]\n",
    "\n",
    "brutto2 = brutto[Z != 0]\n",
    "brutto2 = [round(element, 2) for element in brutto2]\n",
    "brutto_suma = sum(brutto2)\n",
    "suma_list = ['Suma:', brutto_suma]\n",
    "\n",
    "interleaved_list = np.array([item for sublist in zip(N2, cena_szt, netto2, P2, brutto2) for item in sublist])\n",
    "interleaved_matrix = interleaved_list.reshape(3, 5)\n",
    "\n",
    "\n",
    "\n",
    "header_format = '{:<13}' * 5\n",
    "row_format = '{:<13}' * 5\n",
    "sum_format = '{:<52}' * 2\n",
    "\n",
    "# Print headers\n",
    "print(header_format.format(*headers))\n",
    "\n",
    "# Print data\n",
    "for row in interleaved_matrix:\n",
    "    print(row_format.format(*row))\n",
    "print('=' * 57)\n",
    "print(sum_format.format(*suma_list))\n"
   ]
  },
  {
   "cell_type": "markdown",
   "id": "67b1b17f",
   "metadata": {
    "heading_collapsed": true
   },
   "source": [
    "### Zadanie 2\n",
    "\n",
    "Zmodyfikuj kod z zadania pierwszego w ten sposób, że dane o produktach będą wczytywane z pliku `produkty.csv`, a dane do rachunku (liczba zakupionych produktów) z pliku `rachunek.csv`.\n",
    "\n",
    "Utwórz przykładowe dane (inne niż w zadaniu 1). Minimum 5 produktów.\n"
   ]
  },
  {
   "cell_type": "markdown",
   "id": "20d45341",
   "metadata": {},
   "source": [
    "### Zadanie 3\n",
    "\n",
    "#### Zadanie 3 A\n",
    "\n",
    "Utwórz dwa wektory dwuelementowe `A` i `B` (dowolne wartości dodatnie).\n",
    "\n",
    "Następnie wykonaj sumowanie elementów obu wektorów i zapisz w zmiennej `C`.\n"
   ]
  },
  {
   "cell_type": "code",
   "execution_count": null,
   "id": "741e4a50",
   "metadata": {},
   "outputs": [],
   "source": []
  },
  {
   "cell_type": "markdown",
   "id": "6825bb23",
   "metadata": {},
   "source": [
    "#### Zadanie 3 B\n",
    "\n",
    "Wyświetl na wykresie:\n",
    "- wektor wodzący (strzałkę) z punktu `(0, 0)` do punktów `A` oraz `B` (w kolorze <font color='green'>zielonym</font>),\n",
    "- wektor wodzący z punktu `(0, 0)` do punktu `C` (w kolorze <font color='red'>czerwonym</font>)\n",
    "- wektor wodzący z punktu `A` do punktu `C` (w kolorze <font color='blue'>niebieskim</font>),\n",
    "- wektor wodzący z punktu `B` do punktu `C` (w kolorze <font color='blue'>niebieskim</font>)."
   ]
  },
  {
   "cell_type": "code",
   "execution_count": null,
   "id": "716313db",
   "metadata": {},
   "outputs": [],
   "source": [
    "# <<UZUPEŁNIJ>>"
   ]
  },
  {
   "cell_type": "markdown",
   "id": "98e6ec6a",
   "metadata": {},
   "source": [
    "### Zadanie 4\n",
    "\n",
    "Wygeneruj losową macierz 8×8 wg rozkładu Gaussa (średnia: 100, odch. std = 15),\n",
    "wartości zaokrąglij do liczb całkowitych (int). Macierz ta reprezentuje pewien obraz (w skali szarości).\n",
    "\n",
    "Następnie zastosuj filtr uśredniający o masce 3×3 dla elementów wewnętrznych tej macierzy i wypisz wynik. W filtrze uśredniającym zastosuj zaokrąglanie w dół do liczby całkowitej.\n",
    "\n",
    "_Podpowiedź: generacja danych: np.random.normal, np.round._"
   ]
  },
  {
   "cell_type": "code",
   "execution_count": null,
   "id": "9616e1f3",
   "metadata": {},
   "outputs": [],
   "source": [
    "# <<UZUPEŁNIJ>>"
   ]
  }
 ],
 "metadata": {
  "author": {
   "email": "robert.susik@p.lodz.pl",
   "name": "Robert Susik"
  },
  "kernelspec": {
   "display_name": "Python 3 (ipykernel)",
   "language": "python",
   "name": "python3"
  },
  "language_info": {
   "codemirror_mode": {
    "name": "ipython",
    "version": 3
   },
   "file_extension": ".py",
   "mimetype": "text/x-python",
   "name": "python",
   "nbconvert_exporter": "python",
   "pygments_lexer": "ipython3",
   "version": "3.11.8"
  },
  "toc": {
   "base_numbering": 1,
   "nav_menu": {},
   "number_sections": true,
   "sideBar": true,
   "skip_h1_title": false,
   "title_cell": "Table of Contents",
   "title_sidebar": "Contents",
   "toc_cell": false,
   "toc_position": {},
   "toc_section_display": true,
   "toc_window_display": false
  }
 },
 "nbformat": 4,
 "nbformat_minor": 5
}
