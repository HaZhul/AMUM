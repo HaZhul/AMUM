{
 "cells": [
  {
   "cell_type": "markdown",
   "id": "59b5dc28",
   "metadata": {},
   "source": [
    "# Algorytmika i matematyka uczenia maszynowego \n",
    "## Laboratorium 5\n",
    "\n",
    "Do wykonania laboratorium można skorzystać z bibliotek/modułów:\n",
    "- [numpy](https://numpy.org/)\n",
    "- [matplotlib](https://matplotlib.org/)\n",
    "- [pandas](https://pandas.pydata.org/)\n",
    "- [collections](https://docs.python.org/3/library/collections.html)\n"
   ]
  },
  {
   "cell_type": "markdown",
   "id": "ca4e7af2",
   "metadata": {},
   "source": [
    "### Zadanie 1\n",
    "\n",
    "Wczytaj plik `english.10MB`\n",
    "> Podpowiedź: Kodowanie `iso-8859-1`\n",
    "\n"
   ]
  },
  {
   "cell_type": "code",
   "execution_count": 13,
   "id": "967f6b63",
   "metadata": {},
   "outputs": [],
   "source": [
    "import string\n",
    "from collections import Counter\n",
    "import matplotlib.pyplot as plt\n",
    "\n",
    "with open(\"english.10MB\", \"r\", encoding=\"iso-8859-1\") as file:\n",
    "    data = file.read()"
   ]
  },
  {
   "cell_type": "markdown",
   "id": "8d2a3a0d",
   "metadata": {},
   "source": [
    "### Zadanie 2\n",
    "Zamień wszystkie litery na małe.\n"
   ]
  },
  {
   "cell_type": "code",
   "execution_count": 14,
   "id": "5d879322",
   "metadata": {},
   "outputs": [],
   "source": [
    "data = data.lower()"
   ]
  },
  {
   "cell_type": "markdown",
   "id": "cf5a110e",
   "metadata": {},
   "source": [
    "### Zadanie 3\n",
    "Znajdź unikalne litery (pomiń inne znaki) w tekście i dla każdej przypisz liczbę wystąpień, a następnie wyświetl histogram.\n",
    "\n",
    "Pytanie: Jaka litera występuje najczęściej?\n",
    "\n",
    "> Podpowiedź: `import string`\n"
   ]
  },
  {
   "cell_type": "code",
   "execution_count": 15,
   "id": "fa392fb1",
   "metadata": {},
   "outputs": [
    {
     "data": {
      "image/png": "[encoded data removed]",
      "text/plain": [
       "<Figure size 1500x800 with 1 Axes>"
      ]
     },
     "metadata": {},
     "output_type": "display_data"
    },
    {
     "name": "stdout",
     "output_type": "stream",
     "text": [
      "Most common letter: e, quanity: 1001102\n"
     ]
    }
   ],
   "source": [
    "cleaned_text = ''.join(c for c in data if c.isalpha())\n",
    "letter_counts = Counter(cleaned_text)\n",
    "\n",
    "plt.figure(figsize=(15,8))\n",
    "plt.bar(letter_counts.keys(), letter_counts.values())\n",
    "plt.xlabel('Litera')\n",
    "plt.ylabel('Liczba Wystąpień')\n",
    "plt.title('Histogram Wystąpień Liter')\n",
    "plt.show()\n",
    "most_common_letter, quanity = letter_counts.most_common(1)[0]\n",
    "print(f'Most common letter: {most_common_letter}, quanity: {quanity}')"
   ]
  },
  {
   "cell_type": "markdown",
   "id": "5e248f98",
   "metadata": {},
   "source": [
    "### Zadanie 4\n",
    "\n",
    "Napisz funkcję, która dla podanego prefiksu (ciąg liter, np. `th` to prefiks o długości 2) zwróci listę maksymalnie pięciu liter, które mają największe prawdopodobieństwo wystąpienia po nim.\n",
    "\n",
    "```python\n",
    "In : nast('th', s) # th - prefiks, s - tekst\n",
    "Out: ['e', 'a', 'i', 'o', 'y']\n",
    "```\n",
    "\n"
   ]
  },
  {
   "cell_type": "code",
   "execution_count": 16,
   "id": "304c9e59",
   "metadata": {},
   "outputs": [],
   "source": [
    "def nast(prefix, data):\n",
    "    counter = Counter()\n",
    "    for i in range(len(data)):\n",
    "        if data[i:i+len(prefix)] == prefix and data[i+len(prefix)] != ' ':\n",
    "            next_char = data[i+len(prefix)]\n",
    "            counter[next_char] += 1\n",
    "\n",
    "    top_characters = counter.most_common(5)\n",
    "    return [char for char, _ in top_characters]"
   ]
  },
  {
   "cell_type": "code",
   "execution_count": 17,
   "id": "83a72b57",
   "metadata": {},
   "outputs": [
    {
     "name": "stdout",
     "output_type": "stream",
     "text": [
      "['e', 'a', 'i', 'o', 'y']\n"
     ]
    }
   ],
   "source": [
    "print(nast('th', data))"
   ]
  },
  {
   "cell_type": "markdown",
   "id": "c2a193ff",
   "metadata": {},
   "source": [
    "### Zadanie 5\n",
    "\n",
    "Napisz kod, który wczytuje kolejne znaki od użytkownika i podpowiada następne możliwe litery (maksymalnie pięć). Wykorzystaj funkcję zaimplementowaną w poprzednim zadaniu.\n",
    "\n",
    "> Podpowiedź: Możesz wykorzystać funkcję `input()` do wczytywania znaków.\n",
    "\n",
    "Przykład działania:\n",
    "```\n",
    "Nacisnij <ENTER> aby zakonczyc.\n",
    "Podaj litere: f\n",
    "Podaj kolejną literę (możliwe: ['o', 'a', 'r', 'e', 'i']): fo\n",
    "Podaj kolejną literę (możliwe: ['r', 'u', 'l', 'o', 'x']): for\n",
    "Podaj kolejną literę (możliwe: ['e', 't', 'm', 'g', 'c']): fore\n",
    "Podaj kolejną literę (możliwe: ['s', 'h', 'i', 'g', 'v']): fores\n",
    "Podaj kolejną literę (możliwe: ['t', 'a', 'e', 'i', 'k']): forest\n",
    "Podaj kolejną literę (możliwe: ['s', 'a']): forests\n",
    "```"
   ]
  },
  {
   "cell_type": "code",
   "execution_count": 18,
   "id": "0c72e2c1",
   "metadata": {},
   "outputs": [],
   "source": [
    "def find_next_characters(char, data):\n",
    "    counter = Counter()\n",
    "    print(char)\n",
    "    for i in range(len(data)):\n",
    "        if data[i:i+len(char)] == char and data[i + len(char)].isalpha():\n",
    "            next_char = data[i+len(char)]\n",
    "            counter[next_char] += 1\n",
    "    print(counter)\n",
    "    top_characters = counter.most_common(5)\n",
    "    return [char for char, _ in top_characters]"
   ]
  },
  {
   "cell_type": "code",
   "execution_count": 26,
   "id": "3d6e24d2",
   "metadata": {},
   "outputs": [
    {
     "name": "stdout",
     "output_type": "stream",
     "text": [
      "f\n",
      "Counter({'o': 32074, 'a': 15052, 'r': 13264, 'e': 13048, 'i': 12437, 'n': 8032, 't': 7241, 'u': 5916, 'f': 5807, 'l': 4192, 'y': 381, 's': 363, 'á': 29, 'í': 19, 'w': 17, 'b': 16, 'g': 10, 'ú': 10, 'é': 5, 'm': 4, 'd': 3, 'h': 1, 'ê': 1})\n",
      "fo\n",
      "Counter({'r': 24507, 'u': 3464, 'l': 2125, 'o': 1072, 'x': 265, 'e': 253, 'n': 137, 'w': 119, 'i': 34, 'a': 32, 's': 25, 'g': 19, 'd': 8, 'c': 4, 'y': 2, 'm': 1})\n",
      "for\n",
      "Counter({'e': 3805, 't': 2554, 'm': 1221, 'g': 468, 'c': 461, 'w': 354, 'b': 336, 's': 105, 'd': 70, 'n': 55, 'f': 40, 'a': 34, 'l': 28, 'k': 25, 'r': 9, 'i': 1, 'o': 1})\n",
      "fore\n",
      "Counter({'s': 294, 'h': 110, 'i': 106, 'g': 97, 'v': 53, 't': 35, 'w': 32, 'f': 31, 'n': 18, 'm': 16, 'a': 14, 'c': 12, 'b': 7, 'o': 7, 'r': 5, 'p': 2, 'l': 1, 'k': 1})\n",
      "fores\n",
      "Counter({'t': 183, 'a': 64, 'e': 21, 'i': 13, 'k': 6, 'w': 3, 'p': 2, 'h': 2})\n",
      "forest\n",
      "Counter({'s': 27, 'a': 6})\n",
      "Pelne slowo:  forests\n"
     ]
    }
   ],
   "source": [
    "character = input('Podaj litere: ')\n",
    "\n",
    "for i in range(6):\n",
    "    suggested_characters = find_next_characters(character, data)\n",
    "    if suggested_characters:\n",
    "        user_input = input(f'Podaj kolejna litere (mozliwe: {suggested_characters}): ')\n",
    "        character += user_input\n",
    "    else:\n",
    "        print(\"Brak dostępnych liter.\")\n",
    "        break\n",
    "print('Pelne slowo: ', character)\n"
   ]
  },
  {
   "cell_type": "code",
   "execution_count": 24,
   "id": "f4d0b24d",
   "metadata": {},
   "outputs": [],
   "source": [
    "def suggest_next_words(sentence, data, length):\n",
    "    counter_words = Counter()\n",
    "    data_2 = data.split()\n",
    "    print('Current sentence: ', sentence)\n",
    "    for i, word in enumerate(data_2):\n",
    "        if length > 1: sen = ' '.join(data_2[i:length+i])\n",
    "        else: sen = word\n",
    "        # print(sen)\n",
    "        if sen.startswith(sentence):\n",
    "            next_word = data_2[i + length]\n",
    "            counter_words[next_word] += 1\n",
    "\n",
    "    top_words = counter_words.most_common(5)\n",
    "    return [char for char, _ in top_words]"
   ]
  },
  {
   "cell_type": "markdown",
   "id": "18515c1d",
   "metadata": {},
   "source": [
    "### Zadanie 6\n",
    "\n",
    "Wykonaj zadanie podobne do zad. 6, ale na poziomie słów. Dla ułatwienia słowa można wybierać z listy za pomocą liczb 1-5."
   ]
  },
  {
   "cell_type": "code",
   "execution_count": 25,
   "id": "3ad6d8d9",
   "metadata": {},
   "outputs": [
    {
     "name": "stdout",
     "output_type": "stream",
     "text": [
      "Current sentence:  forest\n",
      "Current sentence:  forest and\n",
      "Current sentence:  forest and began\n",
      "Current sentence:  forest and began to\n",
      "Current sentence:  forest and began to cut\n",
      "Current sentence:  forest and began to cut and\n",
      "Full sentence:  forest and began to cut and chop\n"
     ]
    }
   ],
   "source": [
    "sentence = input('Podaj litere: ')\n",
    "\n",
    "length = 1\n",
    "for i in range(6):\n",
    "    suggested_words = suggest_next_words(sentence, data, length)\n",
    "    if suggested_words:\n",
    "        length += 1\n",
    "        user_input = input(f'Podaj kolejne slowo (mozliwe: {suggested_words}): ')\n",
    "        sentence = ' '.join([sentence, user_input])\n",
    "    else:\n",
    "        print(\"Brak dostępnych slow.\")\n",
    "        break\n",
    "print('Pelne zdanie: ', sentence)"
   ]
  }
 ],
 "metadata": {
  "author": {
   "email": "robert.susik@p.lodz.pl",
   "name": "Robert Susik"
  },
  "kernelspec": {
   "display_name": "Python 3 (ipykernel)",
   "language": "python",
   "name": "python3"
  },
  "language_info": {
   "codemirror_mode": {
    "name": "ipython",
    "version": 3
   },
   "file_extension": ".py",
   "mimetype": "text/x-python",
   "name": "python",
   "nbconvert_exporter": "python",
   "pygments_lexer": "ipython3",
   "version": "3.11.8"
  },
  "toc": {
   "base_numbering": 1,
   "nav_menu": {},
   "number_sections": true,
   "sideBar": true,
   "skip_h1_title": false,
   "title_cell": "Table of Contents",
   "title_sidebar": "Contents",
   "toc_cell": false,
   "toc_position": {},
   "toc_section_display": true,
   "toc_window_display": false
  }
 },
 "nbformat": 4,
 "nbformat_minor": 5
}
