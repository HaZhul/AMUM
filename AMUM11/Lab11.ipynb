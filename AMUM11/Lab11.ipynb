{
 "cells": [
  {
   "cell_type": "markdown",
   "id": "c97d000d",
   "metadata": {},
   "source": [
    "# Algorytmika i matematyka uczenia maszynowego \n",
    "## Laboratorium 11\n",
    "\n",
    "### Zadanie 1\n",
    "\n",
    "W okolicy znajdują się 3 obozy, nie wiemy ile osób bierze w nich udział natomiast znamy ich zamówienia na\n",
    "dwa produkty: \n",
    "- woda, \n",
    "- kawa.\n",
    "\n",
    "Wyświetl dane na wykresie, gdzie na osi X oraz Y znajdują się zamówienia na wodę oraz kawę (odpowiednio), \n",
    "a każdy obóz reprezentowany jest jako punkt na wykresie. \n",
    "Dodatkowo, wykreśl linię prowadzącą z punktu (0, 0) do każdego z nich.\n",
    "Następnie, oblicz odległość euklidesową oraz odl. kosinusową pomiędzy obozami i wskaż które są najbardziej podobne do siebie.\n",
    "\n",
    "> Wykres powinien zawierać legendę oraz opisy osi.\n",
    "\n",
    "Dane:\n",
    "\n",
    "| Nazwa obozu     | Zamówienia na wodę (w l.) | Zamówienia na kawę (w szt.) |\n",
    "| :---            | ---                       | --- |\n",
    "| Obóz sportowy 1 | 200 | 25  |\n",
    "| Obóz sportowy 2 | 900 | 80  |\n",
    "| Obóz szachowy   | 300 | 120 |\n",
    "\n"
   ]
  },
  {
   "cell_type": "code",
   "execution_count": null,
   "id": "e0588646",
   "metadata": {},
   "outputs": [],
   "source": [
    "# UZUPEŁNIJ"
   ]
  },
  {
   "cell_type": "markdown",
   "id": "d41958f7",
   "metadata": {},
   "source": [
    "### Zadanie 2\n",
    "\n",
    "#### A)\n",
    "\n",
    "Mamy dane dotyczące kilku parków narodowych. Chcielibyśmy wykorzystać poznane w poprzednim zadaniu miary podobieństwa w celu odnalezienia najbardziej podobnych parków na podstawie pewnych szacunkowych pomiarów liczby drzew (iglastych i liściastych) oraz populacji kilku gatunków zwierząt. \n",
    "\n",
    "  \n",
    "\n",
    "1. Dla każdej pary parków oblicz odległość euklidesową i kosinusową. \n",
    "2. Odnajdź parę najbardziej podobnych parków. \n",
    "3. Na podstawie uzyskanych wyników odpowiedz na pytanie która miara wg. ciebie zwraca lepszy wynik? Uzasadnij, dlaczego.\n",
    "4. Znajdź park najbardziej podobny do Tatrzańskiego Parku Narodowego? \n",
    "\n",
    "Szacunkowe dane:\n",
    "\n",
    "| Nazwa                                       | Liczba drzew iglastych | Liczba drzew liściastych | Liczba dzików | Liczba wilków | Liczba niedźwiedzi | Liczba jeleni |\n",
    "| ---                                         | ---      | ---    |--- |--- | --- | ---  |\n",
    "|Tatrzański Park Narodowy (Polska)            |   1000000|  200000|  90|  75|   50|  1200|\n",
    "|Białowieski Park Narodowy (Polska)           |    250000| 1100000| 250|  40|    0|  1000|\n",
    "|Yellowstone National Park (Stany Zjednoczone)|  30000000| 1000000|   0| 120| 1200| 30000|\n",
    "|Banff National Park (Kanada)                 | 110000000| 7000000|   0|  40|  120|  5000|\n",
    "|Nadbajkalski Park Narodowy (Rosja)           |   8000000| 2100000| 700| 550|  225|  6000|\n",
    "\n",
    "#### B)\n",
    "\n",
    "Co można zrobić, aby odległość euklidesowa zwracała wyniki podobne do kosinusowej? Wykonaj zadanie ponownie uzyskując inne (być może \"lepsze\") wyniki dla odległości euklidesowej niż w podzadaniu A."
   ]
  },
  {
   "cell_type": "code",
   "execution_count": null,
   "id": "3dbc018d",
   "metadata": {},
   "outputs": [],
   "source": [
    "# UZUPEŁNIJ"
   ]
  },
  {
   "cell_type": "markdown",
   "id": "c282558b",
   "metadata": {},
   "source": [
    "### Zadanie 3 \n",
    "\n",
    "Plik `glosowanie.csv` zawiera imiona, nazwiska oraz przynależność do klubu poselskiego posłów, którzy głosowali na TAK w głosowaniu identyfikowanym poprzez numer posiedzenia i glosowania. \n",
    "\n",
    "Zbiór danych obejmuje zakres wszystkich głosowań od trzeciego do 13 posiedzenia Sejmu RP X kadencji.\n",
    "\n",
    "Twoim zadaniem jest odnalezienie, które kluby poselskie głosują podobnie. Dodatkowo podaj parę klubów, które głosują najmniej podobnie. Podaj także,\n",
    "który klub głosuje najbardziej odmiennie (suma odległości do wszystkich\n",
    "pozostałych klubów jest największa). \n",
    "\n",
    "> Uwaga! Uwzględnij, że niektóre kluby poselskie zmieniły nazwę (zgrupuj je). "
   ]
  },
  {
   "cell_type": "code",
   "execution_count": null,
   "id": "f3c61a32",
   "metadata": {},
   "outputs": [],
   "source": [
    "# UZUPEŁNIJ"
   ]
  }
 ],
 "metadata": {
  "kernelspec": {
   "display_name": "Python 3 (ipykernel)",
   "language": "python",
   "name": "python3"
  },
  "language_info": {
   "codemirror_mode": {
    "name": "ipython",
    "version": 3
   },
   "file_extension": ".py",
   "mimetype": "text/x-python",
   "name": "python",
   "nbconvert_exporter": "python",
   "pygments_lexer": "ipython3",
   "version": "3.10.13"
  }
 },
 "nbformat": 4,
 "nbformat_minor": 5
}
