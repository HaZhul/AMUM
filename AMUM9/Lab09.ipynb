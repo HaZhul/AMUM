{
 "cells": [
  {
   "cell_type": "markdown",
   "id": "1d685a9d",
   "metadata": {},
   "source": [
    "# Algorytmika i matematyka uczenia maszynowego \n",
    "## Laboratorium 9 - macierz odwrotna i wyznacznik macierzy\n",
    "\n",
    "\n",
    "### Zadanie 1 - szyfr Hilla\n",
    "\n",
    "Zaimplementuj dwie funkcje do kodowania i dekodowania wiadomości za pomocą szyfru [Hilla](https://pl.wikipedia.org/wiki/Szyfr_Hilla):\n",
    "* `encrypt(t, K)` - szyfruje tekst $t$ za pomocą klucza (macierzy) $K$.\n",
    "* `decrypt(s, K)` - deszyfruje kod $s$ za pomocą klucza (macierzy) $K$.\n",
    "\n",
    "#### Kodowanie\n",
    "\n",
    "W systemie kodowania ASCII litery A - Z zapisane są jako liczby z zakresu 65 - 90. Aby zaszyfrować tekst za pomocą klucza $K$ (macierz o wymiarach $m$ x $m$), należy zapisać znaki tekstu w postaci macierzy o wymiarach $m$ x $n$, a następnie wykonać następujące operacje:\n",
    "\n",
    "1. Utworzyć macierz szyfrującą $K$, której wyznacznik wynosi $det(K) = 1$.\n",
    "> Uwaga: jest to odstępstwo od oryginalnego algorytmu mające na celu uproszczenie przykładu.\n",
    "> Macierz taką można utworzyć z macierzy jednostkowej (`np.identity`), korzystając z operacji elementarnych np. dodając do jednego wiersza macierzy inny wiersz pomnożony przez skalar.\n",
    "1. Zamienić litery tekstu $t$ o długości $h$ na wektor liczb.\n",
    "1. Dopełnić (_padding_) zerami, aby można było wykonać kolejny krok.\n",
    "1. Przekształcić na macierz $X$ o wymiarach ($m$ x $n$), gdzie $n = \\lceil \\frac{h}{m} \\rceil$ (możesz użyć funkcji `reshape`).\n",
    "1. Wykonać operację $S = (KX)$.\n",
    "1. Skonwertować macierz $S$ na wektor (możesz użyć funkcji `flatten`) i zwrócić szyfrogram $s$ (zaszyfrowany tekst).\n",
    "\n",
    "\n",
    "> Uwaga 1: Przedstawiony algorytm jest uproszczonym algorytmem, posiadającym ograniczenie $det(K)=1$, które można pominąć, ale wtedy należy do macierzy kodującej wyznaczyć macierz odwrotną modulo 26 (liczba znaków A-Z, ale może być dowolna inna). Podobnie, należy macierz $S$ zamienić na modulo 26. **Istotne**: W tym przypadku należy pamiętać, że wyznacznik macierzy szyfrującej $det(K)$ nie może posiadać wspólnego dzielnika z liczbą 26 (czyli obie liczby muszą być względnie pierwsze). Dlaczego? Bo w przeciwnym wypadku nie istnieje liczba odwrotna do $det(K) \\textit{ mod } 26$.\n",
    "\n",
    "> Uwaga 2: ciąg $s$ może zawierać niedrukowalne znaki. Jeżeli chcesz tego uniknąć możesz np. zmapować znaki (65-90) do zakresu 0-25. Następnie przy wyświetlaniu przeprowadzić operację w drugą stronę.\n",
    "\n",
    "\n",
    "#### Dekodowanie\n",
    "\n",
    "Aby rozszyfrować zaszyfrowaną wiadomość $s$, należy:\n",
    "\n",
    "1. Zamienić ciąg $s$ na macierz $S$.\n",
    "1. Obliczyć macierz odwrotną $K^{-1}$ (funkcja `np.linalg.inv`).\n",
    "1. Rozszyfrować wiadomość wykonując operację $W = K^{-1} S$.\n",
    "1. Skonwertować wiadomość $W$ na ciąg tekstowy $w$.\n",
    "\n",
    "\n",
    "**Uwaga**: Jest to tylko laboratoryjny przykład na zastosowanie operacji macierzowych. Przedstawione rozwiązanie nie jest bezpieczne."
   ]
  },
  {
   "cell_type": "code",
   "execution_count": 8,
   "id": "56603989",
   "metadata": {},
   "outputs": [
    {
     "data": {
      "text/plain": [
       "{65: 'A',\n",
       " 66: 'B',\n",
       " 67: 'C',\n",
       " 68: 'D',\n",
       " 69: 'E',\n",
       " 70: 'F',\n",
       " 71: 'G',\n",
       " 72: 'H',\n",
       " 73: 'I',\n",
       " 74: 'J',\n",
       " 75: 'K',\n",
       " 76: 'L',\n",
       " 77: 'M',\n",
       " 78: 'N',\n",
       " 79: 'O',\n",
       " 80: 'P',\n",
       " 81: 'Q',\n",
       " 82: 'R',\n",
       " 83: 'S',\n",
       " 84: 'T',\n",
       " 85: 'U',\n",
       " 86: 'V',\n",
       " 87: 'W',\n",
       " 88: 'X',\n",
       " 89: 'Y',\n",
       " 90: 'Z'}"
      ]
     },
     "execution_count": 8,
     "metadata": {},
     "output_type": "execute_result"
    }
   ],
   "source": [
    "import numpy as np\n",
    "import random\n",
    "def ascii_dic():\n",
    "    ascii = {}\n",
    "    for letter in range(ord('A'), ord('Z') + 1):\n",
    "        ascii[letter] = chr(letter)\n",
    "    return ascii\n",
    "ascii = ascii_dic()\n",
    "\n",
    "def text_to_ascii(text):\n",
    "    vec = [ord(letter) for letter in text]\n",
    "    return vec\n",
    "ascii"
   ]
  },
  {
   "cell_type": "code",
   "execution_count": 9,
   "id": "220c8e42",
   "metadata": {},
   "outputs": [
    {
     "name": "stdout",
     "output_type": "stream",
     "text": [
      "[[1. 3. 1.]\n",
      " [1. 4. 1.]\n",
      " [1. 3. 2.]]\n",
      "1.0\n"
     ]
    }
   ],
   "source": [
    "m = 3\n",
    "K = np.identity(m)\n",
    "for i in range(m-1):\n",
    "    K[0] += random.randint(1, 3) * K[(i+1)]\n",
    "for j in range(m-1):\n",
    "    K[j+1] += random.randint(1, 3) * K[0]\n",
    "print(K)\n",
    "print(round(np.linalg.det(K), 6))"
   ]
  },
  {
   "cell_type": "code",
   "execution_count": 10,
   "id": "a8cf044d",
   "metadata": {},
   "outputs": [
    {
     "name": "stdout",
     "output_type": "stream",
     "text": [
      "[[84 79 83]\n",
      " [84 69 82]\n",
      " [89  0  0]]\n"
     ]
    }
   ],
   "source": [
    "t = 'TOSTERY'\n",
    "\n",
    "t_list = text_to_ascii(t)\n",
    "dop = m*m - len(t)\n",
    "t_list = np.array(t_list + [0]*dop)\n",
    "X = t_list.reshape(m, int(len(t_list)/m))\n",
    "print(X)"
   ]
  },
  {
   "cell_type": "code",
   "execution_count": 11,
   "id": "2729a215",
   "metadata": {},
   "outputs": [
    {
     "name": "stdout",
     "output_type": "stream",
     "text": [
      "[425. 286. 329. 509. 355. 411. 514. 286. 329.]\n"
     ]
    }
   ],
   "source": [
    "S = K @ X\n",
    "s = S.flatten()\n",
    "print(s)"
   ]
  },
  {
   "cell_type": "code",
   "execution_count": 12,
   "id": "f8e4575b",
   "metadata": {},
   "outputs": [
    {
     "name": "stdout",
     "output_type": "stream",
     "text": [
      "[[84. 79. 83.]\n",
      " [84. 69. 82.]\n",
      " [89.  0.  0.]]\n"
     ]
    }
   ],
   "source": [
    "s = s.reshape(m, int(len(s)/m))\n",
    "K_inv = np.linalg.inv(K)\n",
    "W = K_inv @ s\n",
    "print(W)"
   ]
  },
  {
   "cell_type": "code",
   "execution_count": 13,
   "id": "d6bfb902",
   "metadata": {},
   "outputs": [
    {
     "name": "stdout",
     "output_type": "stream",
     "text": [
      "TOSTERY\n"
     ]
    }
   ],
   "source": [
    "def convert_ascii_to_letters(ascii_numbers):\n",
    "    output_text = ''\n",
    "    for i in ascii_numbers:\n",
    "        if i != 0:  \n",
    "            output_text += ascii[i]\n",
    "    return output_text\n",
    "\n",
    "W = list(W.flatten().astype(int))\n",
    "print(convert_ascii_to_letters(W))"
   ]
  },
  {
   "attachments": {},
   "cell_type": "markdown",
   "id": "08744169",
   "metadata": {},
   "source": [
    "### Zadanie 2\n",
    "\n",
    "Zaimplementować funkcję, która przyjmuje macierz kwadratową jako argument i zwraca jej wyznacznik obliczony zgodnie ze wzorem [Leibniza](https://en.wikipedia.org/wiki/Leibniz_formula_for_determinants) (_definicja permutacyjna_) i porównaj z wynikiem gotowej funkcji z biblioteki numpy `np.linalg.det`.\n",
    "\n",
    "$$\n",
    "\\text{det}(A) = \\sum_{\\sigma \\in S_n}\\left(\\text{sgn}(\\sigma)\\prod_{i=0}^{n-1}a_{i, \\sigma(i)}\\right)\n",
    "$$\n",
    "\n",
    ", gdzie:\n",
    "\n",
    "* $S_n$ - [grupa permutacji](https://en.wikipedia.org/wiki/Symmetric_group) (dla macierzy 3x3 będą to permutacje ze zbioru {0, 1, 2})\n",
    "* $\\text{sgn}$ - jest to symbol \"+\", \"-\" w zależny od [parzystości permutacji](https://en.wikipedia.org/wiki/Parity_of_a_permutation). Np. dla permutacji `[1, 2, 0]` będzie to \"+\" (trzeba wykonać dwie operacje - zamienić `0` z `1` a później `1` z `2`, a dla permutacji `[0, 2, 1]` będzie \"-\" ponieważ wystarczy jedna operacja (zamiana `1` z `2`).\n",
    "* $\\sigma$ - permutacja (element z grupy permutacji $S_n$)\n",
    "\n",
    "##### Przykład dla macierzy 3x3\n",
    "\n",
    "| $\\sigma$ | $\\text{sgn}$ | $\\text{sgn}(\\sigma)\\prod_{i=0}^{n-1}a_{i, \\sigma(i)}$ |\n",
    "| :---     | :---         | ---: |\n",
    "| 1, 2, 3  | +            | $+a_{1,1}a_{2,2}a_{3,3}$ |\n",
    "| 1, 3, 2  | -            | $-a_{1,1}a_{2,3}a_{3,2}$ |\n",
    "| 3, 1, 2  | +            | $+a_{1,3}a_{2,1}a_{3,2}$ |\n",
    "| 3, 2, 1  | -            | $-a_{1,3}a_{2,2}a_{3,1}$ |\n",
    "| 2, 3, 1  | +            | $+a_{1,2}a_{2,3}a_{3,1}$ |\n",
    "| 2, 1, 3  | -            | $-a_{1,2}a_{2,1}a_{3,3}$ |\n",
    "\n",
    "$\\text{det}(A) = a_{1,1}a_{2,2}a_{3,3} - a_{1,1}a_{2,3}a_{3,2} + a_{1,3}a_{2,1}a_{3,2} - a_{1,3}a_{2,2}a_{3,1} + a_{1,2}a_{2,3}a_{3,1} - a_{1,2}a_{2,1}a_{3,3}$\n",
    "\n",
    "> Uwaga 1: Aby sprawdzić parzystość permutacji możesz użyć funkcji `parity` z biblioteki [`sympy`](https://docs.sympy.org/latest/modules/combinatorics/permutations.html#sympy.combinatorics.permutations.Permutation.parity). Przykład: \n",
    "    ```from sympy.combinatorics import Permutation\n",
    "Permutation([0, 2, 1]).parity()\n",
    "    ```\n",
    "    \n",
    "> Uwaga 2: W celu wygenerowania permutacji możesz użyć funkcji `permutations` z modułu [`itertools`](https://docs.python.org/3/library/itertools.html#itertools.permutations)\n",
    "\n",
    "> Uwaga 3: Pamiętaj, że w numpy porównywanie liczb zmiennoprzecinkowych wykonuje się za pomocą funkcji [`allclose`](https://numpy.org/doc/stable/reference/generated/numpy.allclose.html)"
   ]
  },
  {
   "cell_type": "code",
   "execution_count": 14,
   "id": "65ad8056",
   "metadata": {},
   "outputs": [
    {
     "name": "stdout",
     "output_type": "stream",
     "text": [
      "-36\n",
      "-36.0\n"
     ]
    }
   ],
   "source": [
    "from itertools import permutations\n",
    "\n",
    "def sign(perm):\n",
    "    inversions = 0\n",
    "    perm = list(perm)\n",
    "    for i in range(len(perm)):\n",
    "        for j in range(i + 1, len(perm)):\n",
    "            if perm[i] > perm[j]:\n",
    "                inversions += 1\n",
    "    return -1 if inversions % 2 else 1\n",
    "\n",
    "def determinant(matrix):\n",
    "    n = len(matrix)\n",
    "    perm_list = list(permutations(range(n)))\n",
    "    det = 0\n",
    "    for perm in perm_list:\n",
    "        prod = 1\n",
    "        for i in range(n):\n",
    "            prod *= matrix[i][perm[i]]\n",
    "        det += sign(perm) * prod\n",
    "\n",
    "    return det\n",
    "\n",
    "matrix = [\n",
    "    [1, 2, 3],\n",
    "    [4, 6, 6],\n",
    "    [11, 8, 9]\n",
    "]\n",
    "\n",
    "print(determinant(matrix))\n",
    "print(np.linalg.det(matrix))\n"
   ]
  }
 ],
 "metadata": {
  "author": {
   "email": "robert.susik@p.lodz.pl",
   "name": "Robert Susik"
  },
  "kernelspec": {
   "display_name": "Python 3 (ipykernel)",
   "language": "python",
   "name": "python3"
  },
  "language_info": {
   "codemirror_mode": {
    "name": "ipython",
    "version": 3
   },
   "file_extension": ".py",
   "mimetype": "text/x-python",
   "name": "python",
   "nbconvert_exporter": "python",
   "pygments_lexer": "ipython3",
   "version": "3.11.8"
  },
  "toc": {
   "base_numbering": 1,
   "nav_menu": {},
   "number_sections": true,
   "sideBar": true,
   "skip_h1_title": false,
   "title_cell": "Table of Contents",
   "title_sidebar": "Contents",
   "toc_cell": false,
   "toc_position": {},
   "toc_section_display": true,
   "toc_window_display": false
  }
 },
 "nbformat": 4,
 "nbformat_minor": 5
}
